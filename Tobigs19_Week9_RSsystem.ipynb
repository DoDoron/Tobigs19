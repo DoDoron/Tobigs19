{
 "cells": [
  {
   "cell_type": "code",
   "execution_count": 35,
   "metadata": {},
   "outputs": [],
   "source": [
    "import pandas as pd\n",
    "import numpy as np\n",
    "import matplotlib.pyplot as plt\n",
    "import seaborn as sns"
   ]
  },
  {
   "cell_type": "code",
   "execution_count": 4,
   "metadata": {},
   "outputs": [],
   "source": [
    "movies=pd.read_csv('C:/Users/lbhde/OneDrive - 중앙대학교/투빅스 파일/Week9/ml-latest-small/movies.csv')\n",
    "ratings=pd.read_csv('C:/Users/lbhde/OneDrive - 중앙대학교/투빅스 파일/Week9/ml-latest-small/ratings.csv')\n",
    "tags=pd.read_csv('C:/Users/lbhde/OneDrive - 중앙대학교/투빅스 파일/Week9/ml-latest-small/tags.csv')"
   ]
  },
  {
   "cell_type": "markdown",
   "metadata": {},
   "source": [
    "### EDA proccess"
   ]
  },
  {
   "cell_type": "code",
   "execution_count": 42,
   "metadata": {},
   "outputs": [],
   "source": [
    "def checkfile(df):\n",
    "    print(\"Head\")\n",
    "    print(\"---------------------------------------------\")\n",
    "    print(f\"{df.head()}\")\n",
    "    print()\n",
    "    print(\"Types\")\n",
    "    print(\"---------------------------------------------\")\n",
    "    print(f\"{df.dtypes}\")\n",
    "    print()\n",
    "    print(\"Missing values\")\n",
    "    print(\"---------------------------------------------\")    \n",
    "    print(f\"{df.isnull().sum()}\")\n",
    "    print()"
   ]
  },
  {
   "cell_type": "code",
   "execution_count": 43,
   "metadata": {},
   "outputs": [
    {
     "name": "stdout",
     "output_type": "stream",
     "text": [
      "Head\n",
      "---------------------------------------------\n",
      "   movieId                               title  \\\n",
      "0        1                    Toy Story (1995)   \n",
      "1        2                      Jumanji (1995)   \n",
      "2        3             Grumpier Old Men (1995)   \n",
      "3        4            Waiting to Exhale (1995)   \n",
      "4        5  Father of the Bride Part II (1995)   \n",
      "\n",
      "                                        genres  \n",
      "0  Adventure|Animation|Children|Comedy|Fantasy  \n",
      "1                   Adventure|Children|Fantasy  \n",
      "2                               Comedy|Romance  \n",
      "3                         Comedy|Drama|Romance  \n",
      "4                                       Comedy  \n",
      "\n",
      "Types\n",
      "---------------------------------------------\n",
      "movieId     int64\n",
      "title      object\n",
      "genres     object\n",
      "dtype: object\n",
      "\n",
      "Missing values\n",
      "---------------------------------------------\n",
      "movieId    0\n",
      "title      0\n",
      "genres     0\n",
      "dtype: int64\n",
      "\n"
     ]
    }
   ],
   "source": [
    "checkfile(movies)"
   ]
  },
  {
   "cell_type": "code",
   "execution_count": 7,
   "metadata": {},
   "outputs": [
    {
     "data": {
      "text/plain": [
       "9742"
      ]
     },
     "execution_count": 7,
     "metadata": {},
     "output_type": "execute_result"
    }
   ],
   "source": [
    "movies['movieId'].nunique()"
   ]
  },
  {
   "cell_type": "code",
   "execution_count": 44,
   "metadata": {},
   "outputs": [
    {
     "name": "stdout",
     "output_type": "stream",
     "text": [
      "Head\n",
      "---------------------------------------------\n",
      "   userId  movieId  rating  timestamp\n",
      "0       1        1     4.0  964982703\n",
      "1       1        3     4.0  964981247\n",
      "2       1        6     4.0  964982224\n",
      "3       1       47     5.0  964983815\n",
      "4       1       50     5.0  964982931\n",
      "\n",
      "Types\n",
      "---------------------------------------------\n",
      "userId         int64\n",
      "movieId        int64\n",
      "rating       float64\n",
      "timestamp      int64\n",
      "dtype: object\n",
      "\n",
      "Missing values\n",
      "---------------------------------------------\n",
      "userId       0\n",
      "movieId      0\n",
      "rating       0\n",
      "timestamp    0\n",
      "dtype: int64\n",
      "\n"
     ]
    }
   ],
   "source": [
    "checkfile(ratings)"
   ]
  },
  {
   "cell_type": "code",
   "execution_count": 9,
   "metadata": {},
   "outputs": [
    {
     "data": {
      "text/plain": [
       "610"
      ]
     },
     "execution_count": 9,
     "metadata": {},
     "output_type": "execute_result"
    }
   ],
   "source": [
    "ratings['userId'].nunique()"
   ]
  },
  {
   "cell_type": "code",
   "execution_count": 10,
   "metadata": {},
   "outputs": [
    {
     "data": {
      "text/plain": [
       "9724"
      ]
     },
     "execution_count": 10,
     "metadata": {},
     "output_type": "execute_result"
    }
   ],
   "source": [
    "ratings['movieId'].nunique()"
   ]
  },
  {
   "cell_type": "code",
   "execution_count": 11,
   "metadata": {},
   "outputs": [],
   "source": [
    "ratings_movies = pd.merge(ratings, movies, on='movieId')"
   ]
  },
  {
   "cell_type": "code",
   "execution_count": 36,
   "metadata": {
    "scrolled": false
   },
   "outputs": [
    {
     "data": {
      "text/html": [
       "<div>\n",
       "<style scoped>\n",
       "    .dataframe tbody tr th:only-of-type {\n",
       "        vertical-align: middle;\n",
       "    }\n",
       "\n",
       "    .dataframe tbody tr th {\n",
       "        vertical-align: top;\n",
       "    }\n",
       "\n",
       "    .dataframe thead th {\n",
       "        text-align: right;\n",
       "    }\n",
       "</style>\n",
       "<table border=\"1\" class=\"dataframe\">\n",
       "  <thead>\n",
       "    <tr style=\"text-align: right;\">\n",
       "      <th></th>\n",
       "      <th>userId</th>\n",
       "      <th>movieId</th>\n",
       "      <th>rating</th>\n",
       "      <th>timestamp</th>\n",
       "      <th>title</th>\n",
       "      <th>genres</th>\n",
       "    </tr>\n",
       "  </thead>\n",
       "  <tbody>\n",
       "    <tr>\n",
       "      <th>100831</th>\n",
       "      <td>610</td>\n",
       "      <td>160341</td>\n",
       "      <td>2.5</td>\n",
       "      <td>1479545749</td>\n",
       "      <td>Bloodmoon (1997)</td>\n",
       "      <td>Action|Thriller</td>\n",
       "    </tr>\n",
       "    <tr>\n",
       "      <th>100832</th>\n",
       "      <td>610</td>\n",
       "      <td>160527</td>\n",
       "      <td>4.5</td>\n",
       "      <td>1479544998</td>\n",
       "      <td>Sympathy for the Underdog (1971)</td>\n",
       "      <td>Action|Crime|Drama</td>\n",
       "    </tr>\n",
       "    <tr>\n",
       "      <th>100833</th>\n",
       "      <td>610</td>\n",
       "      <td>160836</td>\n",
       "      <td>3.0</td>\n",
       "      <td>1493844794</td>\n",
       "      <td>Hazard (2005)</td>\n",
       "      <td>Action|Drama|Thriller</td>\n",
       "    </tr>\n",
       "    <tr>\n",
       "      <th>100834</th>\n",
       "      <td>610</td>\n",
       "      <td>163937</td>\n",
       "      <td>3.5</td>\n",
       "      <td>1493848789</td>\n",
       "      <td>Blair Witch (2016)</td>\n",
       "      <td>Horror|Thriller</td>\n",
       "    </tr>\n",
       "    <tr>\n",
       "      <th>100835</th>\n",
       "      <td>610</td>\n",
       "      <td>163981</td>\n",
       "      <td>3.5</td>\n",
       "      <td>1493850155</td>\n",
       "      <td>31 (2016)</td>\n",
       "      <td>Horror</td>\n",
       "    </tr>\n",
       "  </tbody>\n",
       "</table>\n",
       "</div>"
      ],
      "text/plain": [
       "        userId  movieId  rating   timestamp                             title  \\\n",
       "100831     610   160341     2.5  1479545749                  Bloodmoon (1997)   \n",
       "100832     610   160527     4.5  1479544998  Sympathy for the Underdog (1971)   \n",
       "100833     610   160836     3.0  1493844794                     Hazard (2005)   \n",
       "100834     610   163937     3.5  1493848789                Blair Witch (2016)   \n",
       "100835     610   163981     3.5  1493850155                         31 (2016)   \n",
       "\n",
       "                       genres  \n",
       "100831        Action|Thriller  \n",
       "100832     Action|Crime|Drama  \n",
       "100833  Action|Drama|Thriller  \n",
       "100834        Horror|Thriller  \n",
       "100835                 Horror  "
      ]
     },
     "execution_count": 36,
     "metadata": {},
     "output_type": "execute_result"
    }
   ],
   "source": [
    "ratings_movies.tail()"
   ]
  },
  {
   "cell_type": "markdown",
   "metadata": {},
   "source": [
    "인기있는 영화 장르 확인"
   ]
  },
  {
   "cell_type": "code",
   "execution_count": 33,
   "metadata": {},
   "outputs": [],
   "source": [
    "unique_genre_dict = {}\n",
    "for index, row in movies.iterrows():\n",
    "    \n",
    "    genre_combination = row['genres']\n",
    "    parsed_genre = genre_combination.split('|')\n",
    "    \n",
    "    for genre in parsed_genre:\n",
    "        if genre in unique_genre_dict:\n",
    "            unique_genre_dict[genre] += 1\n",
    "        else:\n",
    "            unique_genre_dict[genre] = 1 "
   ]
  },
  {
   "cell_type": "code",
   "execution_count": 41,
   "metadata": {
    "scrolled": true
   },
   "outputs": [
    {
     "data": {
      "image/png": "[encoded data removed]",
      "text/plain": [
       "<Figure size 1440x576 with 1 Axes>"
      ]
     },
     "metadata": {
      "needs_background": "light"
     },
     "output_type": "display_data"
    }
   ],
   "source": [
    "plt.rcParams['figure.figsize'] = [20,8]\n",
    "sns.barplot(x=list(unique_genre_dict.keys()), y=list(unique_genre_dict.values()),\n",
    "           alpha=0.8)\n",
    "plt.title('Popular genre in movies')\n",
    "plt.ylabel('Count of genre', fontsize=10)\n",
    "plt.xlabel('Genres', fontsize=10)\n",
    "plt.show()"
   ]
  },
  {
   "cell_type": "markdown",
   "metadata": {},
   "source": [
    "영화의 평균 rating 찾기"
   ]
  },
  {
   "cell_type": "code",
   "execution_count": 13,
   "metadata": {
    "scrolled": false
   },
   "outputs": [
    {
     "data": {
      "text/plain": [
       "title\n",
       "Gena the Crocodile (1969)                  5.0\n",
       "True Stories (1986)                        5.0\n",
       "Cosmic Scrat-tastrophe (2015)              5.0\n",
       "Love and Pigeons (1985)                    5.0\n",
       "Red Sorghum (Hong gao liang) (1987)        5.0\n",
       "                                          ... \n",
       "Don't Look Now (1973)                      0.5\n",
       "Journey 2: The Mysterious Island (2012)    0.5\n",
       "Joe Dirt 2: Beautiful Loser (2015)         0.5\n",
       "Jesus Christ Vampire Hunter (2001)         0.5\n",
       "Fullmetal Alchemist 2018 (2017)            0.5\n",
       "Name: rating, Length: 9719, dtype: float64"
      ]
     },
     "execution_count": 13,
     "metadata": {},
     "output_type": "execute_result"
    }
   ],
   "source": [
    "ratings_movies.groupby('title').mean()['rating'].sort_values(ascending=False)"
   ]
  },
  {
   "cell_type": "markdown",
   "metadata": {},
   "source": [
    "영화를 본 횟수-내림차순"
   ]
  },
  {
   "cell_type": "code",
   "execution_count": 14,
   "metadata": {
    "scrolled": true
   },
   "outputs": [
    {
     "data": {
      "text/plain": [
       "title\n",
       "Forrest Gump (1994)                          329\n",
       "Shawshank Redemption, The (1994)             317\n",
       "Pulp Fiction (1994)                          307\n",
       "Silence of the Lambs, The (1991)             279\n",
       "Matrix, The (1999)                           278\n",
       "                                            ... \n",
       "King Solomon's Mines (1950)                    1\n",
       "King Solomon's Mines (1937)                    1\n",
       "King Ralph (1991)                              1\n",
       "King Kong Lives (1986)                         1\n",
       "À nous la liberté (Freedom for Us) (1931)      1\n",
       "Name: rating, Length: 9719, dtype: int64"
      ]
     },
     "execution_count": 14,
     "metadata": {},
     "output_type": "execute_result"
    }
   ],
   "source": [
    "ratings_movies.groupby('title').count()['rating'].sort_values(ascending=False)"
   ]
  },
  {
   "cell_type": "markdown",
   "metadata": {},
   "source": [
    "영화 rating의 DataFrame만들기"
   ]
  },
  {
   "cell_type": "code",
   "execution_count": 15,
   "metadata": {},
   "outputs": [
    {
     "data": {
      "text/html": [
       "<div>\n",
       "<style scoped>\n",
       "    .dataframe tbody tr th:only-of-type {\n",
       "        vertical-align: middle;\n",
       "    }\n",
       "\n",
       "    .dataframe tbody tr th {\n",
       "        vertical-align: top;\n",
       "    }\n",
       "\n",
       "    .dataframe thead th {\n",
       "        text-align: right;\n",
       "    }\n",
       "</style>\n",
       "<table border=\"1\" class=\"dataframe\">\n",
       "  <thead>\n",
       "    <tr style=\"text-align: right;\">\n",
       "      <th></th>\n",
       "      <th>rating</th>\n",
       "    </tr>\n",
       "    <tr>\n",
       "      <th>title</th>\n",
       "      <th></th>\n",
       "    </tr>\n",
       "  </thead>\n",
       "  <tbody>\n",
       "    <tr>\n",
       "      <th>'71 (2014)</th>\n",
       "      <td>4.000000</td>\n",
       "    </tr>\n",
       "    <tr>\n",
       "      <th>'Hellboy': The Seeds of Creation (2004)</th>\n",
       "      <td>4.000000</td>\n",
       "    </tr>\n",
       "    <tr>\n",
       "      <th>'Round Midnight (1986)</th>\n",
       "      <td>3.500000</td>\n",
       "    </tr>\n",
       "    <tr>\n",
       "      <th>'Salem's Lot (2004)</th>\n",
       "      <td>5.000000</td>\n",
       "    </tr>\n",
       "    <tr>\n",
       "      <th>'Til There Was You (1997)</th>\n",
       "      <td>4.000000</td>\n",
       "    </tr>\n",
       "    <tr>\n",
       "      <th>...</th>\n",
       "      <td>...</td>\n",
       "    </tr>\n",
       "    <tr>\n",
       "      <th>eXistenZ (1999)</th>\n",
       "      <td>3.863636</td>\n",
       "    </tr>\n",
       "    <tr>\n",
       "      <th>xXx (2002)</th>\n",
       "      <td>2.770833</td>\n",
       "    </tr>\n",
       "    <tr>\n",
       "      <th>xXx: State of the Union (2005)</th>\n",
       "      <td>2.000000</td>\n",
       "    </tr>\n",
       "    <tr>\n",
       "      <th>¡Three Amigos! (1986)</th>\n",
       "      <td>3.134615</td>\n",
       "    </tr>\n",
       "    <tr>\n",
       "      <th>À nous la liberté (Freedom for Us) (1931)</th>\n",
       "      <td>1.000000</td>\n",
       "    </tr>\n",
       "  </tbody>\n",
       "</table>\n",
       "<p>9719 rows × 1 columns</p>\n",
       "</div>"
      ],
      "text/plain": [
       "                                             rating\n",
       "title                                              \n",
       "'71 (2014)                                 4.000000\n",
       "'Hellboy': The Seeds of Creation (2004)    4.000000\n",
       "'Round Midnight (1986)                     3.500000\n",
       "'Salem's Lot (2004)                        5.000000\n",
       "'Til There Was You (1997)                  4.000000\n",
       "...                                             ...\n",
       "eXistenZ (1999)                            3.863636\n",
       "xXx (2002)                                 2.770833\n",
       "xXx: State of the Union (2005)             2.000000\n",
       "¡Three Amigos! (1986)                      3.134615\n",
       "À nous la liberté (Freedom for Us) (1931)  1.000000\n",
       "\n",
       "[9719 rows x 1 columns]"
      ]
     },
     "execution_count": 15,
     "metadata": {},
     "output_type": "execute_result"
    }
   ],
   "source": [
    "ratings_df=pd.DataFrame(ratings_movies.groupby('title').mean()['rating'])\n",
    "ratings_df"
   ]
  },
  {
   "cell_type": "markdown",
   "metadata": {},
   "source": [
    "rating 횟수 추가"
   ]
  },
  {
   "cell_type": "code",
   "execution_count": 16,
   "metadata": {},
   "outputs": [],
   "source": [
    "ratings_df['number of ratings'] = pd.DataFrame(ratings_movies.groupby('title').count()['rating'])"
   ]
  },
  {
   "cell_type": "code",
   "execution_count": 17,
   "metadata": {},
   "outputs": [
    {
     "data": {
      "text/html": [
       "<div>\n",
       "<style scoped>\n",
       "    .dataframe tbody tr th:only-of-type {\n",
       "        vertical-align: middle;\n",
       "    }\n",
       "\n",
       "    .dataframe tbody tr th {\n",
       "        vertical-align: top;\n",
       "    }\n",
       "\n",
       "    .dataframe thead th {\n",
       "        text-align: right;\n",
       "    }\n",
       "</style>\n",
       "<table border=\"1\" class=\"dataframe\">\n",
       "  <thead>\n",
       "    <tr style=\"text-align: right;\">\n",
       "      <th></th>\n",
       "      <th>rating</th>\n",
       "      <th>number of ratings</th>\n",
       "    </tr>\n",
       "    <tr>\n",
       "      <th>title</th>\n",
       "      <th></th>\n",
       "      <th></th>\n",
       "    </tr>\n",
       "  </thead>\n",
       "  <tbody>\n",
       "    <tr>\n",
       "      <th>'71 (2014)</th>\n",
       "      <td>4.0</td>\n",
       "      <td>1</td>\n",
       "    </tr>\n",
       "    <tr>\n",
       "      <th>'Hellboy': The Seeds of Creation (2004)</th>\n",
       "      <td>4.0</td>\n",
       "      <td>1</td>\n",
       "    </tr>\n",
       "    <tr>\n",
       "      <th>'Round Midnight (1986)</th>\n",
       "      <td>3.5</td>\n",
       "      <td>2</td>\n",
       "    </tr>\n",
       "    <tr>\n",
       "      <th>'Salem's Lot (2004)</th>\n",
       "      <td>5.0</td>\n",
       "      <td>1</td>\n",
       "    </tr>\n",
       "    <tr>\n",
       "      <th>'Til There Was You (1997)</th>\n",
       "      <td>4.0</td>\n",
       "      <td>2</td>\n",
       "    </tr>\n",
       "  </tbody>\n",
       "</table>\n",
       "</div>"
      ],
      "text/plain": [
       "                                         rating  number of ratings\n",
       "title                                                             \n",
       "'71 (2014)                                  4.0                  1\n",
       "'Hellboy': The Seeds of Creation (2004)     4.0                  1\n",
       "'Round Midnight (1986)                      3.5                  2\n",
       "'Salem's Lot (2004)                         5.0                  1\n",
       "'Til There Was You (1997)                   4.0                  2"
      ]
     },
     "execution_count": 17,
     "metadata": {},
     "output_type": "execute_result"
    }
   ],
   "source": [
    "ratings_df.sort_values(by='rating', ascending=False)\n",
    "ratings_df.head()"
   ]
  },
  {
   "cell_type": "markdown",
   "metadata": {},
   "source": [
    " rating 수 분포 vs 영화 등장 횟수 확인"
   ]
  },
  {
   "cell_type": "code",
   "execution_count": 20,
   "metadata": {
    "scrolled": true
   },
   "outputs": [
    {
     "data": {
      "image/png": "[encoded data removed]",
      "text/plain": [
       "<Figure size 720x432 with 1 Axes>"
      ]
     },
     "metadata": {
      "needs_background": "light"
     },
     "output_type": "display_data"
    }
   ],
   "source": [
    "plt.figure(figsize=(10,6))\n",
    "plt.hist(ratings_df['number of ratings'], bins=70)\n",
    "plt.xlabel('Number of user ratings')\n",
    "plt.ylabel('The appearances for every rating')\n",
    "plt.title('Distribution of number of ratings')\n",
    "plt.show()"
   ]
  },
  {
   "cell_type": "markdown",
   "metadata": {},
   "source": [
    "Distribution of ratings"
   ]
  },
  {
   "cell_type": "code",
   "execution_count": 22,
   "metadata": {
    "scrolled": true
   },
   "outputs": [
    {
     "data": {
      "image/png": "[encoded data removed]",
      "text/plain": [
       "<Figure size 432x288 with 1 Axes>"
      ]
     },
     "metadata": {
      "needs_background": "light"
     },
     "output_type": "display_data"
    }
   ],
   "source": [
    "plt.hist(ratings_df['rating'],bins=70)\n",
    "plt.xlabel('Avg of rating')\n",
    "plt.ylabel('Number of rating')\n",
    "plt.show()"
   ]
  },
  {
   "cell_type": "code",
   "execution_count": 23,
   "metadata": {
    "scrolled": false
   },
   "outputs": [
    {
     "data": {
      "text/plain": [
       "<seaborn.axisgrid.JointGrid at 0x1d3cd74ad10>"
      ]
     },
     "execution_count": 23,
     "metadata": {},
     "output_type": "execute_result"
    },
    {
     "data": {
      "image/png": "[encoded data removed]",
      "text/plain": [
       "<Figure size 432x432 with 3 Axes>"
      ]
     },
     "metadata": {
      "needs_background": "light"
     },
     "output_type": "display_data"
    }
   ],
   "source": [
    "sns.jointplot(x = ratings_df['rating'], y = ratings_df['number of ratings'], data = ratings_df, alpha = 0.5)"
   ]
  },
  {
   "cell_type": "markdown",
   "metadata": {},
   "source": [
    "# Model based"
   ]
  },
  {
   "cell_type": "markdown",
   "metadata": {},
   "source": [
    "## SVD"
   ]
  },
  {
   "cell_type": "code",
   "execution_count": 60,
   "metadata": {},
   "outputs": [],
   "source": [
    "import time\n",
    "import operator\n"
   ]
  },
  {
   "cell_type": "code",
   "execution_count": 45,
   "metadata": {},
   "outputs": [],
   "source": [
    "from surprise import SVD, Dataset, Reader, accuracy\n",
    "from surprise.model_selection import train_test_split"
   ]
  },
  {
   "cell_type": "code",
   "execution_count": 47,
   "metadata": {},
   "outputs": [],
   "source": [
    "reader = Reader(rating_scale=(1,5))\n",
    "data = Dataset.load_from_df(ratings_movies[['userId', 'movieId', 'rating']], reader)\n",
    "train_data = data.build_full_trainset()"
   ]
  },
  {
   "cell_type": "code",
   "execution_count": 49,
   "metadata": {},
   "outputs": [
    {
     "name": "stdout",
     "output_type": "stream",
     "text": [
      "training time of model: 3.05 seconds\n"
     ]
    }
   ],
   "source": [
    "train_start = time.time()\n",
    "model = SVD(n_factors=8,\n",
    "           lr_all=0.005,\n",
    "           reg_all=0.02,\n",
    "           n_epochs=100)\n",
    "model.fit(train_data)\n",
    "train_end = time.time()\n",
    "print(\"training time of model: %.2f seconds\" % (train_end - train_start))"
   ]
  },
  {
   "cell_type": "markdown",
   "metadata": {},
   "source": [
    "### SVD - check"
   ]
  },
  {
   "cell_type": "code",
   "execution_count": 52,
   "metadata": {},
   "outputs": [
    {
     "data": {
      "text/html": [
       "<div>\n",
       "<style scoped>\n",
       "    .dataframe tbody tr th:only-of-type {\n",
       "        vertical-align: middle;\n",
       "    }\n",
       "\n",
       "    .dataframe tbody tr th {\n",
       "        vertical-align: top;\n",
       "    }\n",
       "\n",
       "    .dataframe thead th {\n",
       "        text-align: right;\n",
       "    }\n",
       "</style>\n",
       "<table border=\"1\" class=\"dataframe\">\n",
       "  <thead>\n",
       "    <tr style=\"text-align: right;\">\n",
       "      <th></th>\n",
       "      <th>userId</th>\n",
       "      <th>movieId</th>\n",
       "      <th>rating</th>\n",
       "      <th>timestamp</th>\n",
       "      <th>title</th>\n",
       "      <th>genres</th>\n",
       "    </tr>\n",
       "  </thead>\n",
       "  <tbody>\n",
       "    <tr>\n",
       "      <th>1824</th>\n",
       "      <td>10</td>\n",
       "      <td>296</td>\n",
       "      <td>1.0</td>\n",
       "      <td>1455303387</td>\n",
       "      <td>Pulp Fiction (1994)</td>\n",
       "      <td>Comedy|Crime|Drama|Thriller</td>\n",
       "    </tr>\n",
       "    <tr>\n",
       "      <th>2430</th>\n",
       "      <td>10</td>\n",
       "      <td>356</td>\n",
       "      <td>3.5</td>\n",
       "      <td>1455301685</td>\n",
       "      <td>Forrest Gump (1994)</td>\n",
       "      <td>Comedy|Drama|Romance|War</td>\n",
       "    </tr>\n",
       "    <tr>\n",
       "      <th>12644</th>\n",
       "      <td>10</td>\n",
       "      <td>2571</td>\n",
       "      <td>0.5</td>\n",
       "      <td>1455356378</td>\n",
       "      <td>Matrix, The (1999)</td>\n",
       "      <td>Action|Sci-Fi|Thriller</td>\n",
       "    </tr>\n",
       "    <tr>\n",
       "      <th>13852</th>\n",
       "      <td>10</td>\n",
       "      <td>2858</td>\n",
       "      <td>1.0</td>\n",
       "      <td>1455356578</td>\n",
       "      <td>American Beauty (1999)</td>\n",
       "      <td>Drama|Romance</td>\n",
       "    </tr>\n",
       "    <tr>\n",
       "      <th>14325</th>\n",
       "      <td>10</td>\n",
       "      <td>2959</td>\n",
       "      <td>0.5</td>\n",
       "      <td>1455356582</td>\n",
       "      <td>Fight Club (1999)</td>\n",
       "      <td>Action|Crime|Drama|Thriller</td>\n",
       "    </tr>\n",
       "  </tbody>\n",
       "</table>\n",
       "</div>"
      ],
      "text/plain": [
       "       userId  movieId  rating   timestamp                   title  \\\n",
       "1824       10      296     1.0  1455303387     Pulp Fiction (1994)   \n",
       "2430       10      356     3.5  1455301685     Forrest Gump (1994)   \n",
       "12644      10     2571     0.5  1455356378      Matrix, The (1999)   \n",
       "13852      10     2858     1.0  1455356578  American Beauty (1999)   \n",
       "14325      10     2959     0.5  1455356582       Fight Club (1999)   \n",
       "\n",
       "                            genres  \n",
       "1824   Comedy|Crime|Drama|Thriller  \n",
       "2430      Comedy|Drama|Romance|War  \n",
       "12644       Action|Sci-Fi|Thriller  \n",
       "13852                Drama|Romance  \n",
       "14325  Action|Crime|Drama|Thriller  "
      ]
     },
     "execution_count": 52,
     "metadata": {},
     "output_type": "execute_result"
    }
   ],
   "source": [
    "# 한 명의 데이터를 선정하여 확인한다. \n",
    "# userId 10을 선정\n",
    "target_userId = 10\n",
    "target_user_data = ratings_movies[ratings_movies['userId']==target_userId]\n",
    "target_user_data.head(5)"
   ]
  },
  {
   "cell_type": "code",
   "execution_count": 53,
   "metadata": {
    "scrolled": false
   },
   "outputs": [
    {
     "data": {
      "text/plain": [
       "{296: 1.0,\n",
       " 356: 3.5,\n",
       " 2571: 0.5,\n",
       " 2858: 1.0,\n",
       " 2959: 0.5,\n",
       " 3578: 4.0,\n",
       " 58559: 4.5,\n",
       " 91529: 5.0,\n",
       " 106782: 1.0,\n",
       " 109487: 0.5,\n",
       " 588: 4.0,\n",
       " 912: 4.0,\n",
       " 1907: 4.0,\n",
       " 2762: 0.5,\n",
       " 4246: 3.5,\n",
       " 597: 3.5,\n",
       " 1784: 3.5,\n",
       " 2671: 3.5,\n",
       " 4306: 4.5,\n",
       " 4993: 4.0,\n",
       " 4995: 4.0,\n",
       " 5952: 4.0,\n",
       " 7153: 4.0,\n",
       " 8636: 3.5,\n",
       " 8665: 3.5,\n",
       " 8808: 3.0,\n",
       " 8961: 2.5,\n",
       " 8970: 1.0,\n",
       " 33794: 5.0,\n",
       " 49272: 5.0,\n",
       " 49286: 5.0,\n",
       " 1028: 0.5,\n",
       " 1088: 3.0,\n",
       " 1247: 3.0,\n",
       " 1307: 3.0,\n",
       " 3882: 3.0,\n",
       " 4447: 4.5,\n",
       " 5066: 3.0,\n",
       " 5377: 3.5,\n",
       " 5620: 3.0,\n",
       " 5943: 3.0,\n",
       " 5957: 3.0,\n",
       " 6155: 3.0,\n",
       " 6266: 3.0,\n",
       " 6377: 3.5,\n",
       " 6535: 4.0,\n",
       " 6942: 4.0,\n",
       " 7149: 4.0,\n",
       " 7151: 3.0,\n",
       " 7154: 4.0,\n",
       " 7169: 4.5,\n",
       " 7293: 3.5,\n",
       " 7375: 4.0,\n",
       " 7451: 3.5,\n",
       " 7458: 5.0,\n",
       " 8529: 3.5,\n",
       " 8533: 5.0,\n",
       " 8869: 5.0,\n",
       " 8969: 3.5,\n",
       " 30749: 3.5,\n",
       " 31433: 2.5,\n",
       " 31685: 4.5,\n",
       " 33145: 3.0,\n",
       " 33679: 3.0,\n",
       " 40629: 3.0,\n",
       " 40819: 4.0,\n",
       " 41285: 2.5,\n",
       " 47099: 3.0,\n",
       " 51662: 3.0,\n",
       " 51705: 4.5,\n",
       " 51834: 1.5,\n",
       " 54286: 3.5,\n",
       " 56367: 3.5,\n",
       " 56949: 3.0,\n",
       " 58047: 3.5,\n",
       " 59333: 2.5,\n",
       " 59421: 2.0,\n",
       " 60397: 3.0,\n",
       " 60950: 2.0,\n",
       " 61250: 2.5,\n",
       " 63113: 3.5,\n",
       " 63992: 4.5,\n",
       " 64969: 0.5,\n",
       " 66203: 3.5,\n",
       " 68954: 4.0,\n",
       " 69406: 4.5,\n",
       " 69844: 3.0,\n",
       " 70183: 3.0,\n",
       " 70293: 0.5,\n",
       " 71579: 5.0,\n",
       " 72011: 2.5,\n",
       " 72330: 3.5,\n",
       " 72407: 3.0,\n",
       " 72720: 3.5,\n",
       " 72737: 3.5,\n",
       " 72998: 2.5,\n",
       " 73017: 3.0,\n",
       " 74450: 3.0,\n",
       " 77841: 2.0,\n",
       " 78772: 3.0,\n",
       " 79091: 5.0,\n",
       " 80549: 3.5,\n",
       " 81784: 2.5,\n",
       " 81845: 5.0,\n",
       " 81847: 3.5,\n",
       " 82167: 3.5,\n",
       " 82499: 2.0,\n",
       " 84374: 3.5,\n",
       " 86548: 3.0,\n",
       " 87222: 3.5,\n",
       " 88163: 4.0,\n",
       " 88810: 3.0,\n",
       " 91104: 3.0,\n",
       " 92259: 5.0,\n",
       " 94070: 4.5,\n",
       " 95167: 4.0,\n",
       " 95449: 4.0,\n",
       " 95510: 3.0,\n",
       " 95543: 3.5,\n",
       " 96079: 5.0,\n",
       " 97024: 0.5,\n",
       " 97938: 1.0,\n",
       " 98203: 3.0,\n",
       " 103335: 4.0,\n",
       " 103339: 4.0,\n",
       " 104374: 4.0,\n",
       " 105211: 2.5,\n",
       " 106489: 3.5,\n",
       " 106696: 4.5,\n",
       " 107141: 2.0,\n",
       " 109374: 0.5,\n",
       " 109853: 4.0,\n",
       " 112006: 4.0,\n",
       " 113275: 4.5,\n",
       " 113394: 4.0,\n",
       " 119145: 1.0,\n",
       " 129428: 3.5,\n",
       " 136020: 5.0,\n",
       " 137595: 4.0,\n",
       " 140110: 5.0}"
      ]
     },
     "execution_count": 53,
     "metadata": {},
     "output_type": "execute_result"
    }
   ],
   "source": [
    "# 이를 dictionary 형태로 추출\n",
    "target_user_movie_rating_dict = {}\n",
    "\n",
    "for index, row in target_user_data.iterrows():\n",
    "    movieId = row['movieId']\n",
    "    target_user_movie_rating_dict[movieId] = row['rating']\n",
    "\n",
    "target_user_movie_rating_dict"
   ]
  },
  {
   "cell_type": "markdown",
   "metadata": {},
   "source": [
    "예측 모델에 10번 유저의 정보를 입력해 보지 않은 영화들의 평점을 예측"
   ]
  },
  {
   "cell_type": "code",
   "execution_count": 55,
   "metadata": {},
   "outputs": [],
   "source": [
    "test_data = []            # 10번 유저가 보지 않은 영화의 리스트\n",
    "for index, row in movies.iterrows():\n",
    "    movieId = row['movieId']\n",
    "    rating = 0\n",
    "    if movieId in target_user_movie_rating_dict:\n",
    "        continue\n",
    "    test_data.append((target_user_id, movieId, rating))"
   ]
  },
  {
   "cell_type": "code",
   "execution_count": 56,
   "metadata": {},
   "outputs": [],
   "source": [
    "target_user_predictions = model.test(test_data)"
   ]
  },
  {
   "cell_type": "code",
   "execution_count": 58,
   "metadata": {},
   "outputs": [],
   "source": [
    "def get_user_predicted_ratings(predictions, userId, user_history):\n",
    "    target_user_movie_predict_dict = {}\n",
    "    for uid, mid, rating, predicted_rating, _ in predictions:\n",
    "        if userId == uid:\n",
    "            if mid not in user_history:\n",
    "                target_user_movie_predict_dict[mid] = predicted_rating\n",
    "    return target_user_movie_predict_dict\n",
    "\n",
    "target_user_movie_predict_dict = get_user_predicted_ratings(predictions=target_user_predictions, \n",
    "                                                            userId=target_user_id, \n",
    "                                                            user_history=target_user_movie_rating_dict)"
   ]
  },
  {
   "cell_type": "code",
   "execution_count": 62,
   "metadata": {},
   "outputs": [
    {
     "data": {
      "text/plain": [
       "[(46, 5),\n",
       " (62, 5),\n",
       " (257, 5),\n",
       " (265, 5),\n",
       " (277, 5),\n",
       " (314, 5),\n",
       " (714, 5),\n",
       " (1035, 5),\n",
       " (1049, 5),\n",
       " (1172, 5)]"
      ]
     },
     "execution_count": 62,
     "metadata": {},
     "output_type": "execute_result"
    }
   ],
   "source": [
    "target_user_top10_predicted = sorted(target_user_movie_predict_dict.items(), \n",
    "                                     key=operator.itemgetter(1), reverse=True)[:10]\n",
    "target_user_top10_predicted"
   ]
  },
  {
   "cell_type": "markdown",
   "metadata": {},
   "source": [
    "그리고 제목과 매칭하여 출력한다. "
   ]
  },
  {
   "cell_type": "code",
   "execution_count": 63,
   "metadata": {},
   "outputs": [],
   "source": [
    "movie_dict = {}\n",
    "for index, row in movies.iterrows():\n",
    "    movieId = row['movieId']\n",
    "    movie_title = row['title']\n",
    "    movie_dict[movieId] = movie_title"
   ]
  },
  {
   "cell_type": "code",
   "execution_count": 64,
   "metadata": {},
   "outputs": [
    {
     "name": "stdout",
     "output_type": "stream",
     "text": [
      "How to Make an American Quilt (1995) : 5\n",
      "Mr. Holland's Opus (1995) : 5\n",
      "Just Cause (1995) : 5\n",
      "Like Water for Chocolate (Como agua para chocolate) (1992) : 5\n",
      "Miracle on 34th Street (1994) : 5\n",
      "Secret of Roan Inish, The (1994) : 5\n",
      "Dead Man (1995) : 5\n",
      "Sound of Music, The (1965) : 5\n",
      "Ghost and the Darkness, The (1996) : 5\n",
      "Cinema Paradiso (Nuovo cinema Paradiso) (1989) : 5\n"
     ]
    }
   ],
   "source": [
    "for predicted in target_user_top10_predicted:\n",
    "    movieId = predicted[0]\n",
    "    predicted_rating = predicted[1]\n",
    "    print(movie_dict[movieId], \":\", predicted_rating)"
   ]
  },
  {
   "cell_type": "markdown",
   "metadata": {},
   "source": [
    "모델 평가하기 "
   ]
  },
  {
   "cell_type": "code",
   "execution_count": 66,
   "metadata": {},
   "outputs": [],
   "source": [
    "reader = Reader(rating_scale=(1,5))\n",
    "data = Dataset.load_from_df(ratings[['userId', 'movieId', 'rating']], reader)\n",
    "train_data, test_data = train_test_split(data, test_size=0.2)"
   ]
  },
  {
   "cell_type": "code",
   "execution_count": 67,
   "metadata": {},
   "outputs": [
    {
     "name": "stdout",
     "output_type": "stream",
     "text": [
      "RMSE of test in SVD model:\n",
      "RMSE: 0.8958\n"
     ]
    },
    {
     "data": {
      "text/plain": [
       "0.8958036449416173"
      ]
     },
     "execution_count": 67,
     "metadata": {},
     "output_type": "execute_result"
    }
   ],
   "source": [
    "model = SVD(n_factors=8,\n",
    "           lr_all=0.005,\n",
    "           reg_all=0.02,\n",
    "           n_epochs=100)\n",
    "model.fit(train_data)\n",
    "\n",
    "predictions = model.test(test_data)\n",
    "\n",
    "print(\"RMSE of test in SVD model:\")\n",
    "accuracy.rmse(predictions)"
   ]
  },
  {
   "cell_type": "markdown",
   "metadata": {},
   "source": [
    "10번 유저의 예측, 실제 평점을 비교한다."
   ]
  },
  {
   "cell_type": "code",
   "execution_count": 68,
   "metadata": {},
   "outputs": [],
   "source": [
    "test_data = []\n",
    "for index, row in movies.iterrows():\n",
    "    movieId = row['movieId']\n",
    "    if movieId in target_user_movie_rating_dict:\n",
    "        rating = target_user_movie_rating_dict[movieId]\n",
    "        test_data.append((target_user_id, movieId, rating))"
   ]
  },
  {
   "cell_type": "code",
   "execution_count": 69,
   "metadata": {},
   "outputs": [],
   "source": [
    "target_user_predictions = model.test(test_data)"
   ]
  },
  {
   "cell_type": "code",
   "execution_count": 70,
   "metadata": {},
   "outputs": [],
   "source": [
    "def get_user_predicted_ratings(predictions, userId, user_history):\n",
    "    target_user_movie_predict_dict = {}\n",
    "    for uid, mid, rating, predicted_rating, _ in predictions:\n",
    "        if userId == uid:\n",
    "            if mid in user_history:\n",
    "                target_user_movie_predict_dict[mid] = predicted_rating\n",
    "    return target_user_movie_predict_dict"
   ]
  },
  {
   "cell_type": "code",
   "execution_count": 71,
   "metadata": {},
   "outputs": [],
   "source": [
    "target_user_movie_predict_dict = get_user_predicted_ratings(predictions=target_user_predictions, \n",
    "                                                            userId=target_user_id, \n",
    "                                                            user_history=target_user_movie_rating_dict)"
   ]
  },
  {
   "cell_type": "code",
   "execution_count": 72,
   "metadata": {},
   "outputs": [
    {
     "data": {
      "text/plain": [
       "{296: 1.9821024612242395,\n",
       " 356: 4.054749412319148,\n",
       " 588: 3.0310920761759386,\n",
       " 597: 3.3321692072586,\n",
       " 912: 3.315117436664521,\n",
       " 1028: 2.9962789608314377,\n",
       " 1088: 3.3390490364620575,\n",
       " 1247: 3.0632165035936976,\n",
       " 1307: 2.9130905926132042,\n",
       " 1784: 3.9907537424539856,\n",
       " 1907: 3.524403878950333,\n",
       " 2571: 2.7411289031355466,\n",
       " 2671: 3.1209760604407983,\n",
       " 2762: 2.109367315233226,\n",
       " 2858: 1.0354748658744604,\n",
       " 2959: 3.5084347059194982,\n",
       " 3578: 4.319812782639739,\n",
       " 3882: 3.2499815663615763,\n",
       " 4246: 4.162333513314495,\n",
       " 4306: 3.08978668774642,\n",
       " 4447: 3.47913885847455,\n",
       " 4993: 3.665286280799025,\n",
       " 4995: 4.1059543621205945,\n",
       " 5066: 2.619746388757794,\n",
       " 5377: 3.446604401815386,\n",
       " 5620: 2.820647678023376,\n",
       " 5943: 3.2727122251517184,\n",
       " 5952: 3.21530549502174,\n",
       " 5957: 3.154442461804583,\n",
       " 6155: 3.364236024595782,\n",
       " 6266: 2.940122013682791,\n",
       " 6377: 4.347699046091504,\n",
       " 6535: 3.938382982743752,\n",
       " 6942: 4.864241635685374,\n",
       " 7149: 3.1539080194326847,\n",
       " 7151: 2.8471818776119306,\n",
       " 7153: 3.7358204847671708,\n",
       " 7154: 3.8529611507944512,\n",
       " 7169: 4.36597001167629,\n",
       " 7293: 3.93164163567491,\n",
       " 7375: 3.9784856319283985,\n",
       " 7451: 4.04723140072209,\n",
       " 7458: 4.170591022878532,\n",
       " 8529: 3.538943786544052,\n",
       " 8533: 4.95930095961897,\n",
       " 8636: 3.330914776568652,\n",
       " 8665: 3.487942974003291,\n",
       " 8808: 2.936781160384081,\n",
       " 8869: 4.685202770012467,\n",
       " 8961: 3.1725343270800708,\n",
       " 8969: 3.2339770945963755,\n",
       " 8970: 1.6856232552231847,\n",
       " 30749: 3.8403040577224363,\n",
       " 31433: 2.4958575054045364,\n",
       " 31685: 3.8062880220839443,\n",
       " 33145: 3.1615827647662162,\n",
       " 33679: 3.2870178531275642,\n",
       " 33794: 4.107801071785564,\n",
       " 40629: 2.1374650227412455,\n",
       " 40819: 3.9284563883433012,\n",
       " 41285: 2.929331575004217,\n",
       " 47099: 4.3588800521910915,\n",
       " 49272: 3.555181174926353,\n",
       " 49286: 3.115475499138349,\n",
       " 51662: 2.844209280695347,\n",
       " 51705: 4.342820102699814,\n",
       " 51834: 1.6129090101944676,\n",
       " 54286: 3.1411462156023022,\n",
       " 56367: 5,\n",
       " 56949: 3.088160034682047,\n",
       " 58047: 3.587729239283408,\n",
       " 58559: 3.6845631575573714,\n",
       " 59333: 2.5595621834560243,\n",
       " 59421: 2.125119143938971,\n",
       " 60397: 3.3165970332208556,\n",
       " 60950: 3.3518992094612305,\n",
       " 61250: 2.4943036727960273,\n",
       " 63113: 3.1660254971414545,\n",
       " 63992: 4.620437772609277,\n",
       " 64969: 3.8469400753809464,\n",
       " 66203: 3.158337045230016,\n",
       " 68954: 3.6096180614491122,\n",
       " 69406: 4.86489090321782,\n",
       " 69844: 2.001341175739741,\n",
       " 70183: 3.067331260486343,\n",
       " 70293: 1,\n",
       " 71579: 4.8718313660736685,\n",
       " 72011: 2.334615192060812,\n",
       " 72330: 3.4287182842699893,\n",
       " 72407: 3.096439983944324,\n",
       " 72720: 3.5089399269584174,\n",
       " 72737: 3.289205764189742,\n",
       " 72998: 3.3086317175750395,\n",
       " 73017: 3.857153956943069,\n",
       " 74450: 3.070716408795608,\n",
       " 77841: 3.2024000406073556,\n",
       " 78772: 3.0310998730667804,\n",
       " 79091: 4.632458920487224,\n",
       " 80549: 4.728254741613942,\n",
       " 81784: 2.531579572833263,\n",
       " 81845: 3.8526377179079914,\n",
       " 81847: 3.7719271043770877,\n",
       " 82167: 3.3432954066398417,\n",
       " 82499: 2.0847883076726186,\n",
       " 84374: 3.614350814028038,\n",
       " 86548: 3.0069241564365607,\n",
       " 87222: 3.6475790506645516,\n",
       " 88163: 3.607745547292286,\n",
       " 88810: 3.0173840499263056,\n",
       " 91104: 3.059438803204303,\n",
       " 91529: 3.720590066780644,\n",
       " 92259: 4.900895461421876,\n",
       " 94070: 4.625152706281027,\n",
       " 95167: 4.016366083179442,\n",
       " 95449: 3.8704504107873268,\n",
       " 95510: 2.264542066467094,\n",
       " 95543: 3.3236925011594916,\n",
       " 96079: 2.4151104202796545,\n",
       " 97024: 1,\n",
       " 97938: 3.0241261142251576,\n",
       " 98203: 2.836054395013445,\n",
       " 103335: 4.28500228335357,\n",
       " 103339: 3.9404564941934557,\n",
       " 104374: 4.122446698282178,\n",
       " 105211: 2.5680843979520565,\n",
       " 106489: 3.299774642149478,\n",
       " 106696: 4.183508592828577,\n",
       " 106782: 1.5647264497580604,\n",
       " 107141: 2.2263313131815194,\n",
       " 109374: 1.7673987140213152,\n",
       " 109487: 1.1779314756652997,\n",
       " 109853: 3.9405817603247395,\n",
       " 112006: 3.5270792520561787,\n",
       " 113275: 3.2024000406073556,\n",
       " 113394: 3.921409645365651,\n",
       " 119145: 1.5050393715524106,\n",
       " 129428: 3.4509112912889757,\n",
       " 136020: 2.747104725372848,\n",
       " 137595: 3.952322449024784,\n",
       " 140110: 4.730060722733327}"
      ]
     },
     "execution_count": 72,
     "metadata": {},
     "output_type": "execute_result"
    }
   ],
   "source": [
    "target_user_movie_predict_dict"
   ]
  },
  {
   "cell_type": "markdown",
   "metadata": {},
   "source": [
    "실제 평점과 비교"
   ]
  },
  {
   "cell_type": "code",
   "execution_count": 73,
   "metadata": {
    "scrolled": false
   },
   "outputs": [
    {
     "name": "stdout",
     "output_type": "stream",
     "text": [
      "movie 1 : Pulp Fiction (1994) : 1.0 / 1.98\n",
      "movie 2 : Forrest Gump (1994) : 3.5 / 4.05\n",
      "movie 3 : Aladdin (1992) : 4.0 / 3.03\n",
      "movie 4 : Pretty Woman (1990) : 3.5 / 3.33\n",
      "movie 5 : Casablanca (1942) : 4.0 / 3.32\n",
      "movie 6 : Mary Poppins (1964) : 0.5 / 3.0\n",
      "movie 7 : Dirty Dancing (1987) : 3.0 / 3.34\n",
      "movie 8 : Graduate, The (1967) : 3.0 / 3.06\n",
      "movie 9 : When Harry Met Sally... (1989) : 3.0 / 2.91\n",
      "movie 10 : As Good as It Gets (1997) : 3.5 / 3.99\n",
      "movie 11 : Mulan (1998) : 4.0 / 3.52\n",
      "movie 12 : Matrix, The (1999) : 0.5 / 2.74\n",
      "movie 13 : Notting Hill (1999) : 3.5 / 3.12\n",
      "movie 14 : Sixth Sense, The (1999) : 0.5 / 2.11\n",
      "movie 15 : American Beauty (1999) : 1.0 / 1.04\n",
      "movie 16 : Fight Club (1999) : 0.5 / 3.51\n",
      "movie 17 : Gladiator (2000) : 4.0 / 4.32\n",
      "movie 18 : Bring It On (2000) : 3.0 / 3.25\n",
      "movie 19 : Bridget Jones's Diary (2001) : 3.5 / 4.16\n",
      "movie 20 : Shrek (2001) : 4.5 / 3.09\n",
      "movie 21 : Legally Blonde (2001) : 4.5 / 3.48\n",
      "movie 22 : Lord of the Rings: The Fellowship of the Ring, The (2001) : 4.0 / 3.67\n",
      "movie 23 : Beautiful Mind, A (2001) : 4.0 / 4.11\n",
      "movie 24 : Walk to Remember, A (2002) : 3.0 / 2.62\n",
      "movie 25 : About a Boy (2002) : 3.5 / 3.45\n",
      "movie 26 : Sweet Home Alabama (2002) : 3.0 / 2.82\n",
      "movie 27 : Maid in Manhattan (2002) : 3.0 / 3.27\n",
      "movie 28 : Lord of the Rings: The Two Towers, The (2002) : 4.0 / 3.22\n",
      "movie 29 : Two Weeks Notice (2002) : 3.0 / 3.15\n",
      "movie 30 : How to Lose a Guy in 10 Days (2003) : 3.0 / 3.36\n",
      "movie 31 : What a Girl Wants (2003) : 3.0 / 2.94\n",
      "movie 32 : Finding Nemo (2003) : 3.5 / 4.35\n",
      "movie 33 : Legally Blonde 2: Red, White & Blonde (2003) : 4.0 / 3.94\n",
      "movie 34 : Love Actually (2003) : 4.0 / 4.86\n",
      "movie 35 : Something's Gotta Give (2003) : 4.0 / 3.15\n",
      "movie 36 : Girl with a Pearl Earring (2003) : 3.0 / 2.85\n",
      "movie 37 : Lord of the Rings: The Return of the King, The (2003) : 4.0 / 3.74\n",
      "movie 38 : Mona Lisa Smile (2003) : 4.0 / 3.85\n",
      "movie 39 : Chasing Liberty (2004) : 4.5 / 4.37\n",
      "movie 40 : 50 First Dates (2004) : 3.5 / 3.93\n",
      "movie 41 : Prince & Me, The (2004) : 4.0 / 3.98\n",
      "movie 42 : Mean Girls (2004) : 3.5 / 4.05\n",
      "movie 43 : Troy (2004) : 5.0 / 4.17\n",
      "movie 44 : Terminal, The (2004) : 3.5 / 3.54\n",
      "movie 45 : Notebook, The (2004) : 5.0 / 4.96\n",
      "movie 46 : Spider-Man 2 (2004) : 3.5 / 3.33\n",
      "movie 47 : Bourne Supremacy, The (2004) : 3.5 / 3.49\n",
      "movie 48 : Princess Diaries 2: Royal Engagement, The (2004) : 3.0 / 2.94\n",
      "movie 49 : First Daughter (2004) : 5.0 / 4.69\n",
      "movie 50 : Incredibles, The (2004) : 2.5 / 3.17\n",
      "movie 51 : Bridget Jones: The Edge of Reason (2004) : 3.5 / 3.23\n",
      "movie 52 : Finding Neverland (2004) : 1.0 / 1.69\n",
      "movie 53 : Hotel Rwanda (2004) : 3.5 / 3.84\n",
      "movie 54 : Wedding Date, The (2005) : 2.5 / 2.5\n",
      "movie 55 : Hitch (2005) : 4.5 / 3.81\n",
      "movie 56 : Lot Like Love, A (2005) : 3.0 / 3.16\n",
      "movie 57 : Mr. & Mrs. Smith (2005) : 3.0 / 3.29\n",
      "movie 58 : Batman Begins (2005) : 5.0 / 4.11\n",
      "movie 59 : Pride & Prejudice (2005) : 3.0 / 2.14\n",
      "movie 60 : Walk the Line (2005) : 4.0 / 3.93\n",
      "movie 61 : Match Point (2005) : 2.5 / 2.93\n",
      "movie 62 : Pursuit of Happyness, The (2006) : 3.0 / 4.36\n",
      "movie 63 : Casino Royale (2006) : 5.0 / 3.56\n",
      "movie 64 : Holiday, The (2006) : 5.0 / 3.12\n",
      "movie 65 : 300 (2007) : 3.0 / 2.84\n",
      "movie 66 : Priceless (Hors de prix) (2006) : 4.5 / 4.34\n",
      "movie 67 : Becoming Jane (2007) : 1.5 / 1.61\n",
      "movie 68 : Bourne Ultimatum, The (2007) : 3.5 / 3.14\n",
      "movie 69 : Juno (2007) : 3.5 / 5\n",
      "movie 70 : 27 Dresses (2008) : 3.0 / 3.09\n",
      "movie 71 : Definitely, Maybe (2008) : 3.5 / 3.59\n",
      "movie 72 : Dark Knight, The (2008) : 4.5 / 3.68\n",
      "movie 73 : Made of Honor (2008) : 2.5 / 2.56\n",
      "movie 74 : What Happens in Vegas... (2008) : 2.0 / 2.13\n",
      "movie 75 : Mamma Mia! (2008) : 3.0 / 3.32\n",
      "movie 76 : Vicky Cristina Barcelona (2008) : 2.0 / 3.35\n",
      "movie 77 : House Bunny, The (2008) : 2.5 / 2.49\n",
      "movie 78 : Quantum of Solace (2008) : 3.5 / 3.17\n",
      "movie 79 : Twilight (2008) : 4.5 / 4.62\n",
      "movie 80 : Yes Man (2008) : 0.5 / 3.85\n",
      "movie 81 : He's Just Not That Into You (2009) : 3.5 / 3.16\n",
      "movie 82 : Up (2009) : 4.0 / 3.61\n",
      "movie 83 : Proposal, The (2009) : 4.5 / 4.86\n",
      "movie 84 : Harry Potter and the Half-Blood Prince (2009) : 3.0 / 2.0\n",
      "movie 85 : Ugly Truth, The (2009) : 3.0 / 3.07\n",
      "movie 86 : Julie & Julia (2009) : 0.5 / 1\n",
      "movie 87 : Education, An (2009) : 5.0 / 4.87\n",
      "movie 88 : Up in the Air (2009) : 2.5 / 2.33\n",
      "movie 89 : Private Lives of Pippa Lee, The (2009) : 3.5 / 3.43\n",
      "movie 90 : Twilight Saga: New Moon, The (2009) : 3.0 / 3.1\n",
      "movie 91 : Single Man, A (2009) : 3.5 / 3.51\n",
      "movie 92 : Princess and the Frog, The (2009) : 3.5 / 3.29\n",
      "movie 93 : Avatar (2009) : 2.5 / 3.31\n",
      "movie 94 : Sherlock Holmes (2009) : 3.0 / 3.86\n",
      "movie 95 : Valentine's Day (2010) : 3.0 / 3.07\n",
      "movie 96 : St Trinian's 2: The Legend of Fritton's Gold (2009) : 2.0 / 3.2\n",
      "movie 97 : Twilight Saga: Eclipse, The (2010) : 3.0 / 3.03\n",
      "movie 98 : Despicable Me (2010) : 5.0 / 4.63\n",
      "movie 99 : Easy A (2010) : 3.5 / 4.73\n",
      "movie 100 : Morning Glory (2010) : 2.5 / 2.53\n",
      "movie 101 : King's Speech, The (2010) : 5.0 / 3.85\n",
      "movie 102 : Tangled (2010) : 3.5 / 3.77\n",
      "movie 103 : Love and Other Drugs (2010) : 3.5 / 3.34\n",
      "movie 104 : How Do You Know (2010) : 2.0 / 2.08\n",
      "movie 105 : No Strings Attached (2011) : 3.5 / 3.61\n",
      "movie 106 : Water for Elephants (2011) : 3.0 / 3.01\n",
      "movie 107 : Kung Fu Panda 2 (2011) : 3.5 / 3.65\n",
      "movie 108 : Crazy, Stupid, Love. (2011) : 4.0 / 3.61\n",
      "movie 109 : Help, The (2011) : 3.0 / 3.02\n",
      "movie 110 : Twilight Saga: Breaking Dawn - Part 1, The (2011) : 3.0 / 3.06\n",
      "movie 111 : Dark Knight Rises, The (2012) : 5.0 / 3.72\n",
      "movie 112 : Intouchables (2011) : 5.0 / 4.9\n",
      "movie 113 : Best Exotic Marigold Hotel, The (2011) : 4.5 / 4.63\n",
      "movie 114 : Brave (2012) : 4.0 / 4.02\n",
      "movie 115 : Magic Mike (2012) : 4.0 / 3.87\n",
      "movie 116 : Amazing Spider-Man, The (2012) : 3.0 / 2.26\n",
      "movie 117 : Ice Age 4: Continental Drift (2012) : 3.5 / 3.32\n",
      "movie 118 : Skyfall (2012) : 5.0 / 2.42\n",
      "movie 119 : Rust and Bone (De rouille et d'os) (2012) : 0.5 / 1\n",
      "movie 120 : Life of Pi (2012) : 1.0 / 3.02\n",
      "movie 121 : Twilight Saga: Breaking Dawn - Part 2, The (2012) : 3.0 / 2.84\n",
      "movie 122 : Despicable Me 2 (2013) : 4.0 / 4.29\n",
      "movie 123 : White House Down (2013) : 4.0 / 3.94\n",
      "movie 124 : About Time (2013) : 4.0 / 4.12\n",
      "movie 125 : Enough Said (2013) : 2.5 / 2.57\n",
      "movie 126 : Hobbit: The Desolation of Smaug, The (2013) : 3.5 / 3.3\n",
      "movie 127 : Frozen (2013) : 4.5 / 4.18\n",
      "movie 128 : Wolf of Wall Street, The (2013) : 1.0 / 1.56\n",
      "movie 129 : Saving Mr. Banks (2013) : 2.0 / 2.23\n",
      "movie 130 : Grand Budapest Hotel, The (2014) : 0.5 / 1.77\n",
      "movie 131 : Interstellar (2014) : 0.5 / 1.18\n",
      "movie 132 : Barefoot (2014) : 4.0 / 3.94\n",
      "movie 133 : Tangled Ever After (2012) : 4.0 / 3.53\n",
      "movie 134 : The Hundred-Foot Journey (2014) : 4.5 / 3.2\n",
      "movie 135 : Pretty One, The (2013) : 4.0 / 3.92\n",
      "movie 136 : Kingsman: The Secret Service (2015) : 1.0 / 1.51\n",
      "movie 137 : The Second Best Exotic Marigold Hotel (2015) : 3.5 / 3.45\n",
      "movie 138 : Spectre (2015) : 5.0 / 2.75\n",
      "movie 139 : Magic Mike XXL (2015) : 4.0 / 3.95\n",
      "movie 140 : The Intern (2015) : 5.0 / 4.73\n"
     ]
    }
   ],
   "source": [
    "origin_rating_list = []\n",
    "predicted_rating_list = []\n",
    "movie_title_list = []\n",
    "idx = 0\n",
    "for movieId, predicted_rating in target_user_movie_predict_dict.items():\n",
    "    idx = idx + 1\n",
    "    predicted_rating = round(predicted_rating,2)\n",
    "    origin_rating = target_user_movie_rating_dict[movieId]\n",
    "    movie_title = movie_dict[movieId]\n",
    "    print(\"movie\", str(idx), \":\", movie_title, \":\", origin_rating, \"/\", predicted_rating)\n",
    "    origin_rating_list.append(origin_rating)\n",
    "    predicted_rating_list.append(predicted_rating)\n",
    "    movie_title_list.append(str(idx))"
   ]
  },
  {
   "cell_type": "markdown",
   "metadata": {},
   "source": [
    "# Memory based"
   ]
  },
  {
   "cell_type": "markdown",
   "metadata": {},
   "source": [
    "## item-based"
   ]
  },
  {
   "cell_type": "code",
   "execution_count": 74,
   "metadata": {},
   "outputs": [
    {
     "data": {
      "text/html": [
       "<div>\n",
       "<style scoped>\n",
       "    .dataframe tbody tr th:only-of-type {\n",
       "        vertical-align: middle;\n",
       "    }\n",
       "\n",
       "    .dataframe tbody tr th {\n",
       "        vertical-align: top;\n",
       "    }\n",
       "\n",
       "    .dataframe thead th {\n",
       "        text-align: right;\n",
       "    }\n",
       "</style>\n",
       "<table border=\"1\" class=\"dataframe\">\n",
       "  <thead>\n",
       "    <tr style=\"text-align: right;\">\n",
       "      <th></th>\n",
       "      <th>userId</th>\n",
       "      <th>movieId</th>\n",
       "      <th>rating</th>\n",
       "      <th>timestamp</th>\n",
       "      <th>title</th>\n",
       "      <th>genres</th>\n",
       "    </tr>\n",
       "  </thead>\n",
       "  <tbody>\n",
       "    <tr>\n",
       "      <th>0</th>\n",
       "      <td>1</td>\n",
       "      <td>1</td>\n",
       "      <td>4.0</td>\n",
       "      <td>964982703</td>\n",
       "      <td>Toy Story (1995)</td>\n",
       "      <td>Adventure|Animation|Children|Comedy|Fantasy</td>\n",
       "    </tr>\n",
       "    <tr>\n",
       "      <th>1</th>\n",
       "      <td>5</td>\n",
       "      <td>1</td>\n",
       "      <td>4.0</td>\n",
       "      <td>847434962</td>\n",
       "      <td>Toy Story (1995)</td>\n",
       "      <td>Adventure|Animation|Children|Comedy|Fantasy</td>\n",
       "    </tr>\n",
       "    <tr>\n",
       "      <th>2</th>\n",
       "      <td>7</td>\n",
       "      <td>1</td>\n",
       "      <td>4.5</td>\n",
       "      <td>1106635946</td>\n",
       "      <td>Toy Story (1995)</td>\n",
       "      <td>Adventure|Animation|Children|Comedy|Fantasy</td>\n",
       "    </tr>\n",
       "    <tr>\n",
       "      <th>3</th>\n",
       "      <td>15</td>\n",
       "      <td>1</td>\n",
       "      <td>2.5</td>\n",
       "      <td>1510577970</td>\n",
       "      <td>Toy Story (1995)</td>\n",
       "      <td>Adventure|Animation|Children|Comedy|Fantasy</td>\n",
       "    </tr>\n",
       "    <tr>\n",
       "      <th>4</th>\n",
       "      <td>17</td>\n",
       "      <td>1</td>\n",
       "      <td>4.5</td>\n",
       "      <td>1305696483</td>\n",
       "      <td>Toy Story (1995)</td>\n",
       "      <td>Adventure|Animation|Children|Comedy|Fantasy</td>\n",
       "    </tr>\n",
       "  </tbody>\n",
       "</table>\n",
       "</div>"
      ],
      "text/plain": [
       "   userId  movieId  rating   timestamp             title  \\\n",
       "0       1        1     4.0   964982703  Toy Story (1995)   \n",
       "1       5        1     4.0   847434962  Toy Story (1995)   \n",
       "2       7        1     4.5  1106635946  Toy Story (1995)   \n",
       "3      15        1     2.5  1510577970  Toy Story (1995)   \n",
       "4      17        1     4.5  1305696483  Toy Story (1995)   \n",
       "\n",
       "                                        genres  \n",
       "0  Adventure|Animation|Children|Comedy|Fantasy  \n",
       "1  Adventure|Animation|Children|Comedy|Fantasy  \n",
       "2  Adventure|Animation|Children|Comedy|Fantasy  \n",
       "3  Adventure|Animation|Children|Comedy|Fantasy  \n",
       "4  Adventure|Animation|Children|Comedy|Fantasy  "
      ]
     },
     "execution_count": 74,
     "metadata": {},
     "output_type": "execute_result"
    }
   ],
   "source": [
    "ratings_movies.head()"
   ]
  },
  {
   "cell_type": "code",
   "execution_count": 75,
   "metadata": {},
   "outputs": [
    {
     "data": {
      "text/html": [
       "<div>\n",
       "<style scoped>\n",
       "    .dataframe tbody tr th:only-of-type {\n",
       "        vertical-align: middle;\n",
       "    }\n",
       "\n",
       "    .dataframe tbody tr th {\n",
       "        vertical-align: top;\n",
       "    }\n",
       "\n",
       "    .dataframe thead th {\n",
       "        text-align: right;\n",
       "    }\n",
       "</style>\n",
       "<table border=\"1\" class=\"dataframe\">\n",
       "  <thead>\n",
       "    <tr style=\"text-align: right;\">\n",
       "      <th>userId</th>\n",
       "      <th>1</th>\n",
       "      <th>2</th>\n",
       "      <th>3</th>\n",
       "      <th>4</th>\n",
       "      <th>5</th>\n",
       "      <th>6</th>\n",
       "      <th>7</th>\n",
       "      <th>8</th>\n",
       "      <th>9</th>\n",
       "      <th>10</th>\n",
       "      <th>...</th>\n",
       "      <th>601</th>\n",
       "      <th>602</th>\n",
       "      <th>603</th>\n",
       "      <th>604</th>\n",
       "      <th>605</th>\n",
       "      <th>606</th>\n",
       "      <th>607</th>\n",
       "      <th>608</th>\n",
       "      <th>609</th>\n",
       "      <th>610</th>\n",
       "    </tr>\n",
       "  </thead>\n",
       "  <tbody>\n",
       "    <tr>\n",
       "      <th>0</th>\n",
       "      <td>4.0</td>\n",
       "      <td>0.0</td>\n",
       "      <td>0.0</td>\n",
       "      <td>0.0</td>\n",
       "      <td>4.0</td>\n",
       "      <td>0.0</td>\n",
       "      <td>4.5</td>\n",
       "      <td>0.0</td>\n",
       "      <td>0.0</td>\n",
       "      <td>0.0</td>\n",
       "      <td>...</td>\n",
       "      <td>4.0</td>\n",
       "      <td>0.0</td>\n",
       "      <td>4.0</td>\n",
       "      <td>3.0</td>\n",
       "      <td>4.0</td>\n",
       "      <td>2.5</td>\n",
       "      <td>4.0</td>\n",
       "      <td>2.5</td>\n",
       "      <td>3.0</td>\n",
       "      <td>5.0</td>\n",
       "    </tr>\n",
       "    <tr>\n",
       "      <th>1</th>\n",
       "      <td>0.0</td>\n",
       "      <td>0.0</td>\n",
       "      <td>0.0</td>\n",
       "      <td>0.0</td>\n",
       "      <td>0.0</td>\n",
       "      <td>4.0</td>\n",
       "      <td>0.0</td>\n",
       "      <td>4.0</td>\n",
       "      <td>0.0</td>\n",
       "      <td>0.0</td>\n",
       "      <td>...</td>\n",
       "      <td>0.0</td>\n",
       "      <td>4.0</td>\n",
       "      <td>0.0</td>\n",
       "      <td>5.0</td>\n",
       "      <td>3.5</td>\n",
       "      <td>0.0</td>\n",
       "      <td>0.0</td>\n",
       "      <td>2.0</td>\n",
       "      <td>0.0</td>\n",
       "      <td>0.0</td>\n",
       "    </tr>\n",
       "    <tr>\n",
       "      <th>2</th>\n",
       "      <td>4.0</td>\n",
       "      <td>0.0</td>\n",
       "      <td>0.0</td>\n",
       "      <td>0.0</td>\n",
       "      <td>0.0</td>\n",
       "      <td>5.0</td>\n",
       "      <td>0.0</td>\n",
       "      <td>0.0</td>\n",
       "      <td>0.0</td>\n",
       "      <td>0.0</td>\n",
       "      <td>...</td>\n",
       "      <td>0.0</td>\n",
       "      <td>0.0</td>\n",
       "      <td>0.0</td>\n",
       "      <td>0.0</td>\n",
       "      <td>0.0</td>\n",
       "      <td>0.0</td>\n",
       "      <td>0.0</td>\n",
       "      <td>2.0</td>\n",
       "      <td>0.0</td>\n",
       "      <td>0.0</td>\n",
       "    </tr>\n",
       "    <tr>\n",
       "      <th>3</th>\n",
       "      <td>0.0</td>\n",
       "      <td>0.0</td>\n",
       "      <td>0.0</td>\n",
       "      <td>0.0</td>\n",
       "      <td>0.0</td>\n",
       "      <td>3.0</td>\n",
       "      <td>0.0</td>\n",
       "      <td>0.0</td>\n",
       "      <td>0.0</td>\n",
       "      <td>0.0</td>\n",
       "      <td>...</td>\n",
       "      <td>0.0</td>\n",
       "      <td>0.0</td>\n",
       "      <td>0.0</td>\n",
       "      <td>0.0</td>\n",
       "      <td>0.0</td>\n",
       "      <td>0.0</td>\n",
       "      <td>0.0</td>\n",
       "      <td>0.0</td>\n",
       "      <td>0.0</td>\n",
       "      <td>0.0</td>\n",
       "    </tr>\n",
       "    <tr>\n",
       "      <th>4</th>\n",
       "      <td>0.0</td>\n",
       "      <td>0.0</td>\n",
       "      <td>0.0</td>\n",
       "      <td>0.0</td>\n",
       "      <td>0.0</td>\n",
       "      <td>5.0</td>\n",
       "      <td>0.0</td>\n",
       "      <td>0.0</td>\n",
       "      <td>0.0</td>\n",
       "      <td>0.0</td>\n",
       "      <td>...</td>\n",
       "      <td>0.0</td>\n",
       "      <td>0.0</td>\n",
       "      <td>0.0</td>\n",
       "      <td>3.0</td>\n",
       "      <td>0.0</td>\n",
       "      <td>0.0</td>\n",
       "      <td>0.0</td>\n",
       "      <td>0.0</td>\n",
       "      <td>0.0</td>\n",
       "      <td>0.0</td>\n",
       "    </tr>\n",
       "  </tbody>\n",
       "</table>\n",
       "<p>5 rows × 610 columns</p>\n",
       "</div>"
      ],
      "text/plain": [
       "userId  1    2    3    4    5    6    7    8    9    10   ...  601  602  603  \\\n",
       "0       4.0  0.0  0.0  0.0  4.0  0.0  4.5  0.0  0.0  0.0  ...  4.0  0.0  4.0   \n",
       "1       0.0  0.0  0.0  0.0  0.0  4.0  0.0  4.0  0.0  0.0  ...  0.0  4.0  0.0   \n",
       "2       4.0  0.0  0.0  0.0  0.0  5.0  0.0  0.0  0.0  0.0  ...  0.0  0.0  0.0   \n",
       "3       0.0  0.0  0.0  0.0  0.0  3.0  0.0  0.0  0.0  0.0  ...  0.0  0.0  0.0   \n",
       "4       0.0  0.0  0.0  0.0  0.0  5.0  0.0  0.0  0.0  0.0  ...  0.0  0.0  0.0   \n",
       "\n",
       "userId  604  605  606  607  608  609  610  \n",
       "0       3.0  4.0  2.5  4.0  2.5  3.0  5.0  \n",
       "1       5.0  3.5  0.0  0.0  2.0  0.0  0.0  \n",
       "2       0.0  0.0  0.0  0.0  2.0  0.0  0.0  \n",
       "3       0.0  0.0  0.0  0.0  0.0  0.0  0.0  \n",
       "4       3.0  0.0  0.0  0.0  0.0  0.0  0.0  \n",
       "\n",
       "[5 rows x 610 columns]"
      ]
     },
     "execution_count": 75,
     "metadata": {},
     "output_type": "execute_result"
    }
   ],
   "source": [
    "user_ratings = pd.pivot_table(ratings_movies, values='rating', index='movieId', columns='userId').reset_index(drop=True)\n",
    "user_ratings.fillna(0, inplace=True)\n",
    "user_ratings.head()"
   ]
  },
  {
   "cell_type": "code",
   "execution_count": 76,
   "metadata": {
    "scrolled": true
   },
   "outputs": [
    {
     "data": {
      "text/html": [
       "<div>\n",
       "<style scoped>\n",
       "    .dataframe tbody tr th:only-of-type {\n",
       "        vertical-align: middle;\n",
       "    }\n",
       "\n",
       "    .dataframe tbody tr th {\n",
       "        vertical-align: top;\n",
       "    }\n",
       "\n",
       "    .dataframe thead th {\n",
       "        text-align: right;\n",
       "    }\n",
       "</style>\n",
       "<table border=\"1\" class=\"dataframe\">\n",
       "  <thead>\n",
       "    <tr style=\"text-align: right;\">\n",
       "      <th></th>\n",
       "      <th>0</th>\n",
       "      <th>1</th>\n",
       "      <th>2</th>\n",
       "      <th>3</th>\n",
       "      <th>4</th>\n",
       "      <th>5</th>\n",
       "      <th>6</th>\n",
       "      <th>7</th>\n",
       "      <th>8</th>\n",
       "      <th>9</th>\n",
       "      <th>...</th>\n",
       "      <th>9714</th>\n",
       "      <th>9715</th>\n",
       "      <th>9716</th>\n",
       "      <th>9717</th>\n",
       "      <th>9718</th>\n",
       "      <th>9719</th>\n",
       "      <th>9720</th>\n",
       "      <th>9721</th>\n",
       "      <th>9722</th>\n",
       "      <th>9723</th>\n",
       "    </tr>\n",
       "  </thead>\n",
       "  <tbody>\n",
       "    <tr>\n",
       "      <th>0</th>\n",
       "      <td>0.000000</td>\n",
       "      <td>0.410562</td>\n",
       "      <td>0.296917</td>\n",
       "      <td>0.035573</td>\n",
       "      <td>0.308762</td>\n",
       "      <td>0.376316</td>\n",
       "      <td>0.277491</td>\n",
       "      <td>0.131629</td>\n",
       "      <td>0.232586</td>\n",
       "      <td>0.395573</td>\n",
       "      <td>...</td>\n",
       "      <td>0.0</td>\n",
       "      <td>0.0</td>\n",
       "      <td>0.0</td>\n",
       "      <td>0.0</td>\n",
       "      <td>0.0</td>\n",
       "      <td>0.0</td>\n",
       "      <td>0.0</td>\n",
       "      <td>0.0</td>\n",
       "      <td>0.0</td>\n",
       "      <td>0.0</td>\n",
       "    </tr>\n",
       "    <tr>\n",
       "      <th>1</th>\n",
       "      <td>0.410562</td>\n",
       "      <td>0.000000</td>\n",
       "      <td>0.282438</td>\n",
       "      <td>0.106415</td>\n",
       "      <td>0.287795</td>\n",
       "      <td>0.297009</td>\n",
       "      <td>0.228576</td>\n",
       "      <td>0.172498</td>\n",
       "      <td>0.044835</td>\n",
       "      <td>0.417693</td>\n",
       "      <td>...</td>\n",
       "      <td>0.0</td>\n",
       "      <td>0.0</td>\n",
       "      <td>0.0</td>\n",
       "      <td>0.0</td>\n",
       "      <td>0.0</td>\n",
       "      <td>0.0</td>\n",
       "      <td>0.0</td>\n",
       "      <td>0.0</td>\n",
       "      <td>0.0</td>\n",
       "      <td>0.0</td>\n",
       "    </tr>\n",
       "    <tr>\n",
       "      <th>2</th>\n",
       "      <td>0.296917</td>\n",
       "      <td>0.282438</td>\n",
       "      <td>0.000000</td>\n",
       "      <td>0.092406</td>\n",
       "      <td>0.417802</td>\n",
       "      <td>0.284257</td>\n",
       "      <td>0.402831</td>\n",
       "      <td>0.313434</td>\n",
       "      <td>0.304840</td>\n",
       "      <td>0.242954</td>\n",
       "      <td>...</td>\n",
       "      <td>0.0</td>\n",
       "      <td>0.0</td>\n",
       "      <td>0.0</td>\n",
       "      <td>0.0</td>\n",
       "      <td>0.0</td>\n",
       "      <td>0.0</td>\n",
       "      <td>0.0</td>\n",
       "      <td>0.0</td>\n",
       "      <td>0.0</td>\n",
       "      <td>0.0</td>\n",
       "    </tr>\n",
       "    <tr>\n",
       "      <th>3</th>\n",
       "      <td>0.035573</td>\n",
       "      <td>0.106415</td>\n",
       "      <td>0.092406</td>\n",
       "      <td>0.000000</td>\n",
       "      <td>0.188376</td>\n",
       "      <td>0.089685</td>\n",
       "      <td>0.275035</td>\n",
       "      <td>0.158022</td>\n",
       "      <td>0.000000</td>\n",
       "      <td>0.095598</td>\n",
       "      <td>...</td>\n",
       "      <td>0.0</td>\n",
       "      <td>0.0</td>\n",
       "      <td>0.0</td>\n",
       "      <td>0.0</td>\n",
       "      <td>0.0</td>\n",
       "      <td>0.0</td>\n",
       "      <td>0.0</td>\n",
       "      <td>0.0</td>\n",
       "      <td>0.0</td>\n",
       "      <td>0.0</td>\n",
       "    </tr>\n",
       "    <tr>\n",
       "      <th>4</th>\n",
       "      <td>0.308762</td>\n",
       "      <td>0.287795</td>\n",
       "      <td>0.417802</td>\n",
       "      <td>0.188376</td>\n",
       "      <td>0.000000</td>\n",
       "      <td>0.298969</td>\n",
       "      <td>0.474002</td>\n",
       "      <td>0.283523</td>\n",
       "      <td>0.335058</td>\n",
       "      <td>0.218061</td>\n",
       "      <td>...</td>\n",
       "      <td>0.0</td>\n",
       "      <td>0.0</td>\n",
       "      <td>0.0</td>\n",
       "      <td>0.0</td>\n",
       "      <td>0.0</td>\n",
       "      <td>0.0</td>\n",
       "      <td>0.0</td>\n",
       "      <td>0.0</td>\n",
       "      <td>0.0</td>\n",
       "      <td>0.0</td>\n",
       "    </tr>\n",
       "  </tbody>\n",
       "</table>\n",
       "<p>5 rows × 9724 columns</p>\n",
       "</div>"
      ],
      "text/plain": [
       "       0         1         2         3         4         5         6     \\\n",
       "0  0.000000  0.410562  0.296917  0.035573  0.308762  0.376316  0.277491   \n",
       "1  0.410562  0.000000  0.282438  0.106415  0.287795  0.297009  0.228576   \n",
       "2  0.296917  0.282438  0.000000  0.092406  0.417802  0.284257  0.402831   \n",
       "3  0.035573  0.106415  0.092406  0.000000  0.188376  0.089685  0.275035   \n",
       "4  0.308762  0.287795  0.417802  0.188376  0.000000  0.298969  0.474002   \n",
       "\n",
       "       7         8         9     ...  9714  9715  9716  9717  9718  9719  \\\n",
       "0  0.131629  0.232586  0.395573  ...   0.0   0.0   0.0   0.0   0.0   0.0   \n",
       "1  0.172498  0.044835  0.417693  ...   0.0   0.0   0.0   0.0   0.0   0.0   \n",
       "2  0.313434  0.304840  0.242954  ...   0.0   0.0   0.0   0.0   0.0   0.0   \n",
       "3  0.158022  0.000000  0.095598  ...   0.0   0.0   0.0   0.0   0.0   0.0   \n",
       "4  0.283523  0.335058  0.218061  ...   0.0   0.0   0.0   0.0   0.0   0.0   \n",
       "\n",
       "   9720  9721  9722  9723  \n",
       "0   0.0   0.0   0.0   0.0  \n",
       "1   0.0   0.0   0.0   0.0  \n",
       "2   0.0   0.0   0.0   0.0  \n",
       "3   0.0   0.0   0.0   0.0  \n",
       "4   0.0   0.0   0.0   0.0  \n",
       "\n",
       "[5 rows x 9724 columns]"
      ]
     },
     "execution_count": 76,
     "metadata": {},
     "output_type": "execute_result"
    }
   ],
   "source": [
    "from sklearn.metrics.pairwise import cosine_similarity\n",
    "\n",
    "# Calculate the cosine similarity between movies\n",
    "movie_similarity = cosine_similarity(user_ratings)\n",
    "np.fill_diagonal(movie_similarity,0)\n",
    "user_ratings=pd.DataFrame(movie_similarity)\n",
    "user_ratings.head()"
   ]
  },
  {
   "cell_type": "markdown",
   "metadata": {},
   "source": [
    "추천할 영화 제목 임의로 입력해서 확인"
   ]
  },
  {
   "cell_type": "code",
   "execution_count": 78,
   "metadata": {},
   "outputs": [
    {
     "data": {
      "text/html": [
       "<div>\n",
       "<style scoped>\n",
       "    .dataframe tbody tr th:only-of-type {\n",
       "        vertical-align: middle;\n",
       "    }\n",
       "\n",
       "    .dataframe tbody tr th {\n",
       "        vertical-align: top;\n",
       "    }\n",
       "\n",
       "    .dataframe thead th {\n",
       "        text-align: right;\n",
       "    }\n",
       "</style>\n",
       "<table border=\"1\" class=\"dataframe\">\n",
       "  <thead>\n",
       "    <tr style=\"text-align: right;\">\n",
       "      <th></th>\n",
       "      <th>movieId</th>\n",
       "      <th>title</th>\n",
       "      <th>release_date</th>\n",
       "      <th>similarity</th>\n",
       "    </tr>\n",
       "  </thead>\n",
       "  <tbody>\n",
       "    <tr>\n",
       "      <th>0</th>\n",
       "      <td>1</td>\n",
       "      <td>Toy Story (1995)</td>\n",
       "      <td>Adventure|Animation|Children|Comedy|Fantasy</td>\n",
       "      <td>0.000000</td>\n",
       "    </tr>\n",
       "    <tr>\n",
       "      <th>1</th>\n",
       "      <td>2</td>\n",
       "      <td>Jumanji (1995)</td>\n",
       "      <td>Adventure|Children|Fantasy</td>\n",
       "      <td>0.410562</td>\n",
       "    </tr>\n",
       "  </tbody>\n",
       "</table>\n",
       "</div>"
      ],
      "text/plain": [
       "   movieId             title                                 release_date  \\\n",
       "0        1  Toy Story (1995)  Adventure|Animation|Children|Comedy|Fantasy   \n",
       "1        2    Jumanji (1995)                   Adventure|Children|Fantasy   \n",
       "\n",
       "   similarity  \n",
       "0    0.000000  \n",
       "1    0.410562  "
      ]
     },
     "execution_count": 78,
     "metadata": {},
     "output_type": "execute_result"
    }
   ],
   "source": [
    "user_inp=\"Toy Story (1995)\"\n",
    "inp=movies[movies['title']==user_inp].index.tolist()\n",
    "inp=inp[0]\n",
    "    \n",
    "movies['similarity'] = user_ratings.iloc[inp]\n",
    "movies.columns = ['movieId', 'title', 'release_date','similarity']\n",
    "movies.head(2)"
   ]
  },
  {
   "cell_type": "code",
   "execution_count": 79,
   "metadata": {},
   "outputs": [
    {
     "name": "stdout",
     "output_type": "stream",
     "text": [
      "Recommended movies based on your choice of  Toy Story (1995) : \n",
      "      movieId                                              title  \\\n",
      "418      480                               Jurassic Park (1993)   \n",
      "615      780               Independence Day (a.k.a. ID4) (1996)   \n",
      "224      260          Star Wars: Episode IV - A New Hope (1977)   \n",
      "314      356                                Forrest Gump (1994)   \n",
      "322      364                              Lion King, The (1994)   \n",
      "910     1209  Once Upon a Time in the West (C'era una volta ...   \n",
      "546      648                         Mission: Impossible (1996)   \n",
      "963     1264                                        Diva (1981)   \n",
      "968     1269                        Arsenic and Old Lace (1944)   \n",
      "\n",
      "                                        release_date  similarity  \n",
      "418                 Action|Adventure|Sci-Fi|Thriller    0.565637  \n",
      "615                 Action|Adventure|Sci-Fi|Thriller    0.564262  \n",
      "224                          Action|Adventure|Sci-Fi    0.557388  \n",
      "314                         Comedy|Drama|Romance|War    0.547096  \n",
      "322  Adventure|Animation|Children|Drama|Musical|IMAX    0.541145  \n",
      "910                             Action|Drama|Western    0.541089  \n",
      "546                Action|Adventure|Mystery|Thriller    0.538913  \n",
      "963            Action|Drama|Mystery|Romance|Thriller    0.534169  \n",
      "968                          Comedy|Mystery|Thriller    0.530381  \n"
     ]
    }
   ],
   "source": [
    "print(\"Recommended movies based on your choice of \",user_inp ,\": \\n\", movies.sort_values( [\"similarity\"], ascending = False )[1:10])"
   ]
  },
  {
   "cell_type": "code",
   "execution_count": null,
   "metadata": {},
   "outputs": [],
   "source": []
  }
 ],
 "metadata": {
  "kernelspec": {
   "display_name": "Python 3 (ipykernel)",
   "language": "python",
   "name": "python3"
  },
  "language_info": {
   "codemirror_mode": {
    "name": "ipython",
    "version": 3
   },
   "file_extension": ".py",
   "mimetype": "text/x-python",
   "name": "python",
   "nbconvert_exporter": "python",
   "pygments_lexer": "ipython3",
   "version": "3.10.2"
  }
 },
 "nbformat": 4,
 "nbformat_minor": 2
}
